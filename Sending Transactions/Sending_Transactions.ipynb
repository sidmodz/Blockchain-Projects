{
  "nbformat": 4,
  "nbformat_minor": 0,
  "metadata": {
    "colab": {
      "provenance": []
    },
    "kernelspec": {
      "name": "python3",
      "display_name": "Python 3"
    },
    "language_info": {
      "name": "python"
    }
  },
  "cells": [
    {
      "cell_type": "markdown",
      "source": [
        "## **Sending an Ethereum Transaction on Base Sepolia**  \n",
        "\n",
        "In this project, I implemented a **Python script** using **Web3.py** to send an Ethereum transaction on the **Base Sepolia testnet**. The goal was to transfer **0.01 ETH** from a sender wallet to a receiver wallet while ensuring the transaction adhered to the network's requirements.  \n",
        "\n",
        "### **Steps Followed**  \n",
        "\n",
        "1. **Connecting to the Base Sepolia Testnet**  \n",
        "   - I used **Infura** as the RPC provider, which supports the Base Sepolia testnet.  \n",
        "   - A connection was established using Web3.py, and the script verified that the connection was successful.  \n",
        "\n",
        "2. **Preparing the Transaction**  \n",
        "   - The **sender and receiver addresses** were converted to **checksum format** for accuracy.  \n",
        "   - The **nonce** was retrieved to ensure that the transaction was assigned the correct order.  \n",
        "   - A transaction dictionary was created, specifying:  \n",
        "     - The **recipient address**  \n",
        "     - The **amount to transfer (0.01 ETH)**  \n",
        "     - The **gas limit (21,000 units)**  \n",
        "     - The **gas price (40 Gwei)**  \n",
        "     - The **chain ID (84532) for Base Sepolia**  \n",
        "\n",
        "3. **Signing and Sending the Transaction**  \n",
        "   - The transaction was **digitally signed** using the sender's **private key** to authorize it.  \n",
        "   - The signed transaction was then **broadcasted** to the network.  \n",
        "\n",
        "4. **Verifying the Transaction**  \n",
        "   - The script waited for **confirmation** by retrieving the **transaction receipt**.  \n",
        "   - Upon successful execution, the transaction hash was printed for reference.  \n",
        "   - The transaction status was later verified on **Basescan**.  \n",
        "\n",
        "\n",
        "### **Final Outcome**  \n",
        "The transaction was **successfully executed and verified** on Basescan, confirming the transfer of **0.01 ETH** to the recipient. 🚀"
      ],
      "metadata": {
        "id": "TlhwPQGNMbUl"
      }
    },
    {
      "cell_type": "markdown",
      "source": [
        "# Infura Base Sepolia Endpoint & Wallet Details"
      ],
      "metadata": {
        "id": "T1p0GEfxzb9x"
      }
    },
    {
      "cell_type": "code",
      "execution_count": null,
      "metadata": {
        "colab": {
          "base_uri": "https://localhost:8080/"
        },
        "id": "3fXaYw-b_W2v",
        "outputId": "913c235e-4d51-4b0b-b6d3-e64864a300e3"
      },
      "outputs": [
        {
          "output_type": "stream",
          "name": "stdout",
          "text": [
            "True\n"
          ]
        }
      ],
      "source": [
        "from web3 import Web3\n",
        "import os\n",
        "\n",
        "MY_ADDRESS = '0x2d450443Bc20e1Fa4AAaA9029eB24De617D18781'\n",
        "base_sepolia = INFURA_LINK\n",
        "Adel_Dia_adress = '0xEf9b82Fe91A55d46b16BB67aE701C01DC67474c6'\n",
        "private_key = PRIVATE_KEY\n",
        "\n",
        "w3 = Web3(Web3.HTTPProvider(base_sepolia))\n",
        "print(w3.is_connected())"
      ]
    },
    {
      "cell_type": "markdown",
      "source": [
        "# Convert Addresses to Checksum Format"
      ],
      "metadata": {
        "id": "vaQ4AZYFzunG"
      }
    },
    {
      "cell_type": "code",
      "source": [
        "sender = Web3.to_checksum_address(MY_ADDRESS)\n",
        "receiver = Web3.to_checksum_address(Adel_Dia_adress)\n",
        "nonce = w3.eth.get_transaction_count(sender)\n",
        "# The nonce should be 1 since this is a new wallet with only 1 transactions\n",
        "print(nonce)"
      ],
      "metadata": {
        "colab": {
          "base_uri": "https://localhost:8080/"
        },
        "id": "BRSApy3-B-qw",
        "outputId": "efb3d132-dd80-496f-d969-71dfc9130894"
      },
      "execution_count": null,
      "outputs": [
        {
          "output_type": "stream",
          "name": "stdout",
          "text": [
            "1\n"
          ]
        }
      ]
    },
    {
      "cell_type": "markdown",
      "source": [
        "# Create the Transaction"
      ],
      "metadata": {
        "id": "G21d0yEkz7X1"
      }
    },
    {
      "cell_type": "code",
      "source": [
        "transaction = {\n",
        "    'to': receiver,\n",
        "    'nonce' : nonce,\n",
        "    'value': w3.to_wei(0.01, 'ether'),\n",
        "    'gas' : 21000,\n",
        "    'gasPrice': w3.to_wei('40', 'gwei'),\n",
        "    # Base sepolia network chain ID\n",
        "    'chainId' : 84532\n",
        "}\n",
        "\n",
        "# Sign the Transaction\n",
        "signed_transaction = w3.eth.account.sign_transaction(transaction, private_key)\n",
        "\n",
        "# Send the Transaction\n",
        "transaction_hash = w3.eth.send_raw_transaction(signed_transaction.raw_transaction)\n",
        "\n",
        "# Wait for the Transaction Receipt\n",
        "transaction_receipt = w3.eth.wait_for_transaction_receipt(transaction_hash)\n",
        "print(f\"Transaction hash: {transaction_hash} \\n Transaction_receipt: \\n {transaction_receipt}\")"
      ],
      "metadata": {
        "colab": {
          "base_uri": "https://localhost:8080/"
        },
        "id": "EI5w_eMjCPvR",
        "outputId": "d10a16aa-43d8-48ea-d28e-523284870d0d"
      },
      "execution_count": null,
      "outputs": [
        {
          "output_type": "stream",
          "name": "stdout",
          "text": [
            "Transaction hash: b'2\\xc6\\x8cc\\x00\\xf76\\xc85,^\\x1cU\\x8a\\x8d6&5\\x95l>\\x17w\\xc7\\xfc\\xf3(\\xbc\\xc3P\\xf1\\xf4' \n",
            " Transaction_receipt: \n",
            " AttributeDict({'blockHash': HexBytes('0x64448442fba84a6e84476670c8e5c11e3a977b2af772a0280d1d23e83d20e89a'), 'blockNumber': 17318467, 'contractAddress': None, 'cumulativeGasUsed': 64827, 'effectiveGasPrice': 40000000000, 'from': '0x2d450443Bc20e1Fa4AAaA9029eB24De617D18781', 'gasUsed': 21000, 'l1BaseFeeScalar': '0x44d', 'l1BlobBaseFee': '0x1', 'l1BlobBaseFeeScalar': '0xa118b', 'l1Fee': '0xe3b7581b', 'l1GasPrice': '0x8144452b', 'l1GasUsed': '0x640', 'logs': [], 'logsBloom': HexBytes('0x00000000000000000000000000000000000000000000000000000000000000000000000000000000000000000000000000000000000000000000000000000000000000000000000000000000000000000000000000000000000000000000000000000000000000000000000000000000000000000000000000000000000000000000000000000000000000000000000000000000000000000000000000000000000000000000000000000000000000000000000000000000000000000000000000000000000000000000000000000000000000000000000000000000000000000000000000000000000000000000000000000000000000000000000000000000'), 'status': 1, 'to': '0xEf9b82Fe91A55d46b16BB67aE701C01DC67474c6', 'transactionHash': HexBytes('0x32c68c6300f736c8352c5e1c558a8d362635956c3e1777c7fcf328bcc350f1f4'), 'transactionIndex': 1, 'type': 0})\n"
          ]
        }
      ]
    },
    {
      "cell_type": "markdown",
      "source": [
        "# Display the Transaction Receipt"
      ],
      "metadata": {
        "id": "053VvIxh0OCN"
      }
    },
    {
      "cell_type": "code",
      "source": [
        "transaction_receipt"
      ],
      "metadata": {
        "colab": {
          "base_uri": "https://localhost:8080/"
        },
        "id": "6ervGwKKHxha",
        "outputId": "c0d7fe32-d2cd-4472-d0ed-9bcf6509e00c"
      },
      "execution_count": null,
      "outputs": [
        {
          "output_type": "execute_result",
          "data": {
            "text/plain": [
              "AttributeDict({'blockHash': HexBytes('0x64448442fba84a6e84476670c8e5c11e3a977b2af772a0280d1d23e83d20e89a'),\n",
              " 'blockNumber': 17318467,\n",
              " 'contractAddress': None,\n",
              " 'cumulativeGasUsed': 64827,\n",
              " 'effectiveGasPrice': 40000000000,\n",
              " 'from': '0x2d450443Bc20e1Fa4AAaA9029eB24De617D18781',\n",
              " 'gasUsed': 21000,\n",
              " 'l1BaseFeeScalar': '0x44d',\n",
              " 'l1BlobBaseFee': '0x1',\n",
              " 'l1BlobBaseFeeScalar': '0xa118b',\n",
              " 'l1Fee': '0xe3b7581b',\n",
              " 'l1GasPrice': '0x8144452b',\n",
              " 'l1GasUsed': '0x640',\n",
              " 'logs': [],\n",
              " 'logsBloom': HexBytes('0x00000000000000000000000000000000000000000000000000000000000000000000000000000000000000000000000000000000000000000000000000000000000000000000000000000000000000000000000000000000000000000000000000000000000000000000000000000000000000000000000000000000000000000000000000000000000000000000000000000000000000000000000000000000000000000000000000000000000000000000000000000000000000000000000000000000000000000000000000000000000000000000000000000000000000000000000000000000000000000000000000000000000000000000000000000000'),\n",
              " 'status': 1,\n",
              " 'to': '0xEf9b82Fe91A55d46b16BB67aE701C01DC67474c6',\n",
              " 'transactionHash': HexBytes('0x32c68c6300f736c8352c5e1c558a8d362635956c3e1777c7fcf328bcc350f1f4'),\n",
              " 'transactionIndex': 1,\n",
              " 'type': 0})"
            ]
          },
          "metadata": {},
          "execution_count": 14
        }
      ]
    }
  ]
}