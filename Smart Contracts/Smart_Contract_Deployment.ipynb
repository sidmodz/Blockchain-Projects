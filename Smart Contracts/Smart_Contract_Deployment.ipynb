{
  "nbformat": 4,
  "nbformat_minor": 0,
  "metadata": {
    "colab": {
      "provenance": []
    },
    "kernelspec": {
      "name": "python3",
      "display_name": "Python 3"
    },
    "language_info": {
      "name": "python"
    }
  },
  "cells": [
    {
      "cell_type": "markdown",
      "source": [
        "# Solidity Smart Contract Compilation"
      ],
      "metadata": {
        "id": "WiBzrLx1vI2i"
      }
    },
    {
      "cell_type": "code",
      "source": [
        "from solcx import compile_source\n",
        "\n",
        "# Solidity source code\n",
        "solidity_source_code = \"\"\"\n",
        "// SPDX-License-Identifier: GPL-3.0\n",
        "\n",
        "pragma solidity >=0.8.2 <0.9.0;\n",
        "\n",
        "contract Storage {\n",
        "\n",
        "    uint256 public age;\n",
        "    string public name;\n",
        "\n",
        "\n",
        "    // Constructor\n",
        "    constructor(uint256 initialAge, string memory initialName) {\n",
        "        age = initialAge;\n",
        "        name = initialName;\n",
        "    }\n",
        "\n",
        "    // Update function\n",
        "    function update(uint256 _age, string memory _name) public {\n",
        "        age = _age;\n",
        "        name = _name;\n",
        "    }\n",
        "\n",
        "\n",
        "    // Retrieve functions\n",
        "    function getAge() public view returns (uint256) {\n",
        "    return age;\n",
        "}\n",
        "\n",
        "    function getName() public view returns (string memory) {\n",
        "    return name;\n",
        "}\n",
        "\n",
        "}\n",
        "\"\"\"\n",
        "\n",
        "# Compiling the contract\n",
        "compiled_sol = compile_source(solidity_source_code, output_values=[\"abi\", \"bin\"])\n",
        "contract_interface = compiled_sol['<stdin>:Storage']\n",
        "\n",
        "# Extracting ABI and Bytecode\n",
        "abi = contract_interface['abi']\n",
        "bytecode = contract_interface['bin']\n"
      ],
      "metadata": {
        "id": "SgWXYcuCmr13"
      },
      "execution_count": null,
      "outputs": []
    },
    {
      "cell_type": "markdown",
      "source": [
        "# Connecting to Blockchain Network"
      ],
      "metadata": {
        "id": "Oj3lALf4vRrV"
      }
    },
    {
      "cell_type": "code",
      "source": [
        "from web3 import Web3\n",
        "\n",
        "# Connection to Base Sepolia\n",
        "base_sepolia = #Infura link\n",
        "w3 = Web3(Web3.HTTPProvider(base_sepolia))\n",
        "\n",
        "w3 = Web3(Web3.HTTPProvider(base_sepolia))\n",
        "print(w3.is_connected())\n",
        "\n",
        "MY_ADDRESS = '0xd8Cb52CE8ECCaFCfc90494Ff186Cb078987A5db5'\n",
        "private_key = PRIVATE_KEY\n",
        "account = w3.eth.account.from_key(private_key)"
      ],
      "metadata": {
        "colab": {
          "base_uri": "https://localhost:8080/"
        },
        "id": "HLyNtiWInqw7",
        "outputId": "e11adff6-023f-4959-c66f-d4abb81b8023"
      },
      "execution_count": null,
      "outputs": [
        {
          "output_type": "stream",
          "name": "stdout",
          "text": [
            "True\n"
          ]
        }
      ]
    },
    {
      "cell_type": "markdown",
      "source": [
        "# Deploying the Smart Contract"
      ],
      "metadata": {
        "id": "9JcO0rXdvXgn"
      }
    },
    {
      "cell_type": "code",
      "source": [
        "initial_age = 23\n",
        "initial_name = \"Ali\"\n",
        "\n",
        "# contract instance\n",
        "Storage = w3.eth.contract(abi=abi, bytecode=bytecode)\n",
        "\n",
        "# deployment transaction\n",
        "transaction = Storage.constructor(initial_age, initial_name).build_transaction({\n",
        "    'chainId': 84532,  # Sepolia chain ID\n",
        "    'from': account.address,\n",
        "    'nonce': w3.eth.get_transaction_count(account.address),\n",
        "    'gas': 3000000,  # Adjust gas limit as needed\n",
        "    'gasPrice': w3.to_wei('10', 'gwei'),  # Adjust gas price as needed\n",
        "})\n",
        "\n",
        "\n",
        "signed_tx = w3.eth.account.sign_transaction(transaction, private_key=private_key)\n",
        "tx_hash = w3.eth.send_raw_transaction(signed_tx.raw_transaction)\n",
        "print(f\"Transaction hash: {tx_hash.hex()}\")\n",
        "\n",
        "tx_receipt = w3.eth.wait_for_transaction_receipt(tx_hash)\n",
        "print(f\"Contract deployed at address: {tx_receipt.contractAddress}\")"
      ],
      "metadata": {
        "colab": {
          "base_uri": "https://localhost:8080/"
        },
        "id": "Tpz1guKZoCVR",
        "outputId": "c387be9f-2e9f-40e7-9d05-9277d682b167"
      },
      "execution_count": null,
      "outputs": [
        {
          "output_type": "stream",
          "name": "stdout",
          "text": [
            "Transaction hash: 09a61d4c5627737bc53b6926692afb8039a1f63e0995cd756654de8b0bdb7010\n",
            "Contract deployed at address: 0x139e741293c0cE727D42f9DA1e03f238C75b459a\n"
          ]
        }
      ]
    },
    {
      "cell_type": "markdown",
      "source": [
        "# Interacting with the Smart Contract"
      ],
      "metadata": {
        "id": "e5AtR_F_vfrC"
      }
    },
    {
      "cell_type": "code",
      "source": [
        "# Initializing contract instance\n",
        "contract_address = tx_receipt.contractAddress\n",
        "contract_instance = w3.eth.contract(address=contract_address, abi=abi)\n",
        "\n",
        "# Reading `age` and `name` from the contract\n",
        "print(\"Age:\", contract_instance.functions.getAge().call())\n",
        "print(\"Name:\", contract_instance.functions.getName().call())\n",
        "\n",
        "# Update `age` and `name`\n",
        "update_txn = contract_instance.functions.update(100, \"Alilou\").build_transaction({\n",
        "    'chainId': 84532,\n",
        "    'from': account.address,\n",
        "    'nonce': w3.eth.get_transaction_count(account.address),\n",
        "    'gas': 200000,\n",
        "    'gasPrice': w3.to_wei('10', 'gwei'),\n",
        "})\n",
        "\n",
        "signed_update_txn = w3.eth.account.sign_transaction(update_txn, private_key=private_key)\n",
        "update_tx_hash = w3.eth.send_raw_transaction(signed_update_txn.raw_transaction)\n",
        "w3.eth.wait_for_transaction_receipt(update_tx_hash)"
      ],
      "metadata": {
        "colab": {
          "base_uri": "https://localhost:8080/"
        },
        "id": "BQOBPqXkqRen",
        "outputId": "15b08364-4659-4da1-d108-99c9a36029c7"
      },
      "execution_count": null,
      "outputs": [
        {
          "output_type": "stream",
          "name": "stdout",
          "text": [
            "Age: 23\n",
            "Name: Ali\n"
          ]
        },
        {
          "output_type": "execute_result",
          "data": {
            "text/plain": [
              "AttributeDict({'blockHash': HexBytes('0x894f674de742c58a1c47df72e64abcaddabc99b6436da1a735064a34f2f0abcc'),\n",
              " 'blockNumber': 17926725,\n",
              " 'contractAddress': None,\n",
              " 'cumulativeGasUsed': 79408,\n",
              " 'effectiveGasPrice': 10000000000,\n",
              " 'from': '0xd8Cb52CE8ECCaFCfc90494Ff186Cb078987A5db5',\n",
              " 'gasUsed': 35569,\n",
              " 'l1BaseFeeScalar': '0x44d',\n",
              " 'l1BlobBaseFee': '0x77d3689',\n",
              " 'l1BlobBaseFeeScalar': '0xa118b',\n",
              " 'l1Fee': '0x1ee819206',\n",
              " 'l1GasPrice': '0x30dced',\n",
              " 'l1GasUsed': '0x640',\n",
              " 'logs': [],\n",
              " 'logsBloom': HexBytes('0x00000000000000000000000000000000000000000000000000000000000000000000000000000000000000000000000000000000000000000000000000000000000000000000000000000000000000000000000000000000000000000000000000000000000000000000000000000000000000000000000000000000000000000000000000000000000000000000000000000000000000000000000000000000000000000000000000000000000000000000000000000000000000000000000000000000000000000000000000000000000000000000000000000000000000000000000000000000000000000000000000000000000000000000000000000000'),\n",
              " 'status': 1,\n",
              " 'to': '0x139e741293c0cE727D42f9DA1e03f238C75b459a',\n",
              " 'transactionHash': HexBytes('0x106b13a4a352e0c7cf53e72aa299b7432452a16c3feca30e3c3e8074e16da85e'),\n",
              " 'transactionIndex': 1,\n",
              " 'type': 0})"
            ]
          },
          "metadata": {},
          "execution_count": 27
        }
      ]
    },
    {
      "cell_type": "markdown",
      "source": [
        "# Updating the Smart Contract Data"
      ],
      "metadata": {
        "id": "k2_JlYmcvkUZ"
      }
    },
    {
      "cell_type": "code",
      "source": [
        "# Verify the update\n",
        "print(\"Updated Age:\", contract_instance.functions.getAge().call())\n",
        "print(\"Updated Name:\", contract_instance.functions.getName().call())"
      ],
      "metadata": {
        "colab": {
          "base_uri": "https://localhost:8080/"
        },
        "id": "bcSRqEZhr4li",
        "outputId": "a3f2b9aa-b9cd-4756-e2ce-caae2108fb6c"
      },
      "execution_count": null,
      "outputs": [
        {
          "output_type": "stream",
          "name": "stdout",
          "text": [
            "Updated Age: 100\n",
            "Updated Name: Alilou\n"
          ]
        }
      ]
    }
  ]
}